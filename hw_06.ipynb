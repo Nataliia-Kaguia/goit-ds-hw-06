{
  "nbformat": 4,
  "nbformat_minor": 0,
  "metadata": {
    "colab": {
      "provenance": [],
      "authorship_tag": "ABX9TyPv/rIiAa1nhoJT4wuaXpz2",
      "include_colab_link": true
    },
    "kernelspec": {
      "name": "python3",
      "display_name": "Python 3"
    },
    "language_info": {
      "name": "python"
    }
  },
  "cells": [
    {
      "cell_type": "markdown",
      "metadata": {
        "id": "view-in-github",
        "colab_type": "text"
      },
      "source": [
        "<a href=\"https://colab.research.google.com/github/Nataliia-Kaguia/goit-ds-hw-06/blob/main/hw_06.ipynb\" target=\"_parent\"><img src=\"https://colab.research.google.com/assets/colab-badge.svg\" alt=\"Open In Colab\"/></a>"
      ]
    },
    {
      "cell_type": "code",
      "execution_count": null,
      "metadata": {
        "id": "K059F5B9w1WM"
      },
      "outputs": [],
      "source": [
        "# 0. Імпорт бібліотек\n",
        "import numpy as np\n",
        "import pandas as pd\n",
        "import matplotlib.pyplot as plt\n",
        "\n",
        "# Для перевірки\n",
        "from sklearn.linear_model import LinearRegression\n",
        "from sklearn.metrics import mean_squared_error\n"
      ]
    },
    {
      "cell_type": "code",
      "source": [
        "# 1. Функція гіпотези у векторному вигляді\n",
        "def hypothesis(X, w):\n",
        "    \"\"\"\n",
        "    X — матриця ознак (m x n)\n",
        "    w — вектор параметрів (n x 1)\n",
        "    return: y_pred (m x 1)\n",
        "    \"\"\"\n",
        "    return X @ w\n"
      ],
      "metadata": {
        "id": "124z1DdSxAnD"
      },
      "execution_count": null,
      "outputs": []
    },
    {
      "cell_type": "code",
      "source": [
        "# 2. Функція втрат (MSE у векторному вигляді)\n",
        "def loss(X, y, w):\n",
        "    m = len(y)\n",
        "    y_pred = hypothesis(X, w)\n",
        "    return (1/(2*m)) * np.sum((y_pred - y)**2)\n"
      ],
      "metadata": {
        "id": "-MMLagKLxTRM"
      },
      "execution_count": null,
      "outputs": []
    },
    {
      "cell_type": "code",
      "source": [
        "# 3. Один крок градієнтного спуску\n",
        "def gradient_step(X, y, w, alpha):\n",
        "    \"\"\"\n",
        "    X — матриця ознак\n",
        "    y — вектор-ціль\n",
        "    w — вектор ваг\n",
        "    alpha — швидкість навчання\n",
        "    \"\"\"\n",
        "    m = len(y)\n",
        "    y_pred = hypothesis(X, w)\n",
        "    gradient = (1/m) * (X.T @ (y_pred - y))\n",
        "    w = w - alpha * gradient\n",
        "    return w\n"
      ],
      "metadata": {
        "id": "uuis4F_2xdtw"
      },
      "execution_count": null,
      "outputs": []
    },
    {
      "cell_type": "code",
      "source": [
        "# 4. Навчання на датасеті (градієнтний спуск)\n",
        "# Завантаження даних\n",
        "url = \"https://drive.google.com/uc?id=1-rAa4XT4_fI0dOBlMNuE6a7jB0wln_Qo\"\n",
        "df = pd.read_csv(url)\n",
        "\n",
        "print(df.head())\n",
        "\n",
        "# Припустимо, що є колонки: \"area\", \"bedrooms\", \"bathrooms\", \"price\"\n",
        "X = df[[\"area\", \"bedrooms\", \"bathrooms\"]].values\n",
        "y = df[\"price\"].values.reshape(-1, 1)\n",
        "\n",
        "# Додаємо стовпець 1 для w0\n",
        "X = np.hstack([np.ones((X.shape[0], 1)), X])\n",
        "\n",
        "# Ініціалізація\n",
        "w = np.zeros((X.shape[1], 1))\n",
        "alpha = 0.00000001\n",
        "epochs = 1000\n",
        "\n",
        "losses = []\n",
        "\n",
        "for i in range(epochs):\n",
        "    w = gradient_step(X, y, w, alpha)\n",
        "    losses.append(loss(X, y, w))\n",
        "\n",
        "print(\"Отримані коефіцієнти (градієнтний спуск):\", w.ravel())\n"
      ],
      "metadata": {
        "colab": {
          "base_uri": "https://localhost:8080/"
        },
        "id": "GAnDr3Laxnjs",
        "outputId": "3fb57cf8-b905-4849-f479-c6ce7d66056d"
      },
      "execution_count": null,
      "outputs": [
        {
          "output_type": "stream",
          "name": "stdout",
          "text": [
            "      price  area  bedrooms  bathrooms  stories mainroad guestroom basement  \\\n",
            "0  13300000  7420         4          2        3      yes        no       no   \n",
            "1  12250000  8960         4          4        4      yes        no       no   \n",
            "2  12250000  9960         3          2        2      yes        no      yes   \n",
            "3  12215000  7500         4          2        2      yes        no      yes   \n",
            "4  11410000  7420         4          1        2      yes       yes      yes   \n",
            "\n",
            "  hotwaterheating airconditioning  parking prefarea furnishingstatus  \n",
            "0              no             yes        2      yes        furnished  \n",
            "1              no             yes        3       no        furnished  \n",
            "2              no              no        2      yes   semi-furnished  \n",
            "3              no             yes        3      yes        furnished  \n",
            "4              no             yes        2       no        furnished  \n",
            "Отримані коефіцієнти (градієнтний спуск): [  3.73468893 855.70066076  14.05312415   7.85944397]\n"
          ]
        }
      ]
    },
    {
      "cell_type": "code",
      "source": [
        "# 5. Аналітичне рішення (нормальне рівняння)\n",
        "w_normal = np.linalg.inv(X.T @ X) @ (X.T @ y)\n",
        "print(\"Аналітичне рішення:\", w_normal.ravel())\n"
      ],
      "metadata": {
        "colab": {
          "base_uri": "https://localhost:8080/"
        },
        "id": "VqYLSZyXydbp",
        "outputId": "9573fe07-572a-4cf9-9470-6b4d9defb664"
      },
      "execution_count": null,
      "outputs": [
        {
          "output_type": "stream",
          "name": "stdout",
          "text": [
            "Аналітичне рішення: [-1.73171608e+05  3.78762754e+02  4.06820034e+05  1.38604950e+06]\n"
          ]
        }
      ]
    },
    {
      "cell_type": "code",
      "source": [
        "# 6. Перевірка через scikit-learn\n",
        "model = LinearRegression()\n",
        "model.fit(X[:,1:], y)\n",
        "\n",
        "print(\"Коефіцієнти sklearn:\", model.coef_, \"Інтерсепт:\", model.intercept_)\n",
        "\n",
        "# Порівняння прогнозів\n",
        "y_pred_sklearn = model.predict(X[:,1:])\n",
        "print(\"MSE (sklearn):\", mean_squared_error(y, y_pred_sklearn))\n"
      ],
      "metadata": {
        "colab": {
          "base_uri": "https://localhost:8080/"
        },
        "id": "yTCyYomTylBx",
        "outputId": "a881040d-738c-483a-b27d-5d1d0921a833"
      },
      "execution_count": null,
      "outputs": [
        {
          "output_type": "stream",
          "name": "stdout",
          "text": [
            "Коефіцієнти sklearn: [[3.78762754e+02 4.06820034e+05 1.38604950e+06]] Інтерсепт: [-173171.60763264]\n",
            "MSE (sklearn): 1791170049977.3193\n"
          ]
        }
      ]
    },
    {
      "cell_type": "code",
      "source": [
        "# Візуалізація збіжності втрат\n",
        "plt.plot(losses)\n",
        "plt.xlabel(\"Epoch\")\n",
        "plt.ylabel(\"Loss\")\n",
        "plt.title(\"Збіжність градієнтного спуску\")\n",
        "plt.show()\n"
      ],
      "metadata": {
        "colab": {
          "base_uri": "https://localhost:8080/",
          "height": 472
        },
        "id": "SQiJIOwIyvdY",
        "outputId": "a6a7e1de-e7b7-4022-bfac-0b923c8e18e6"
      },
      "execution_count": null,
      "outputs": [
        {
          "output_type": "display_data",
          "data": {
            "text/plain": [
              "<Figure size 640x480 with 1 Axes>"
            ],
            "image/png": "[encoded data removed]"
          },
          "metadata": {}
        }
      ]
    }
  ]
}